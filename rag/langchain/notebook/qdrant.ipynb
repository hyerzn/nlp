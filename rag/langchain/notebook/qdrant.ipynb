{
 "cells": [
  {
   "cell_type": "code",
   "execution_count": 1,
   "metadata": {},
   "outputs": [],
   "source": [
    "# https://python.langchain.com/docs/integrations/vectorstores/qdrant/#initialization"
   ]
  },
  {
   "cell_type": "markdown",
   "metadata": {},
   "source": [
    "#### Initialization"
   ]
  },
  {
   "cell_type": "code",
   "execution_count": 2,
   "metadata": {},
   "outputs": [],
   "source": [
    "from config import settings"
   ]
  },
  {
   "cell_type": "code",
   "execution_count": 3,
   "metadata": {},
   "outputs": [],
   "source": [
    "import os\n",
    "os.environ[\"OPENAI_API_KEY\"] = settings.openai_api_key\n",
    "\n",
    "from langchain_openai import OpenAIEmbeddings\n",
    "embeddings = OpenAIEmbeddings(model=\"text-embedding-3-large\")"
   ]
  },
  {
   "cell_type": "code",
   "execution_count": 4,
   "metadata": {},
   "outputs": [],
   "source": [
    "from langchain_qdrant import QdrantVectorStore\n",
    "from qdrant_client import QdrantClient\n",
    "from qdrant_client.http.models import Distance, VectorParams\n",
    "\n",
    "client = QdrantClient(\":memory:\")\n",
    "\n",
    "client.create_collection(\n",
    "    collection_name=\"demo_collection\",\n",
    "    vectors_config=VectorParams(size=3072, distance=Distance.COSINE),\n",
    ")\n",
    "\n",
    "vector_store = QdrantVectorStore(\n",
    "    client=client,\n",
    "    collection_name=\"demo_collection\",\n",
    "    embedding=embeddings,\n",
    ")"
   ]
  },
  {
   "cell_type": "markdown",
   "metadata": {},
   "source": [
    "#### Manage vector store"
   ]
  },
  {
   "cell_type": "code",
   "execution_count": 5,
   "metadata": {},
   "outputs": [],
   "source": [
    "from uuid import uuid4\n",
    "from langchain_core.documents import Document\n",
    "\n",
    "document_1 = Document(\n",
    "    page_content=\"I love ice cream.\",\n",
    "    metadata={\"source\": \"my brain\"}\n",
    ")\n",
    "\n",
    "document_2 = Document(\n",
    "    page_content=\"I like to eat candy.\",\n",
    "    metadata={\"source\": \"my brain\"}\n",
    ")\n",
    "\n",
    "document_3 = Document(\n",
    "    page_content=\"I have to eat sweets.\",\n",
    "    metadata={\"source\": \"my brain\"}\n",
    ")\n",
    "\n",
    "documents = [\n",
    "    document_1,\n",
    "    document_2,\n",
    "    document_3,\n",
    "]\n",
    "uuids = [str(uuid4()) for _ in documents]"
   ]
  },
  {
   "cell_type": "code",
   "execution_count": null,
   "metadata": {},
   "outputs": [],
   "source": [
    "vector_store.add_documents(documents=documents, ids=uuids)\n",
    "# vector_store.delete(ids=[uuids[-1]])"
   ]
  },
  {
   "cell_type": "markdown",
   "metadata": {},
   "source": [
    "#### Query directly"
   ]
  },
  {
   "cell_type": "code",
   "execution_count": null,
   "metadata": {},
   "outputs": [],
   "source": [
    "results = vector_store.similarity_search(\"Don't you like sweets?\", k=3)\n",
    "for res in results:\n",
    "    print(f\"* {res.page_content} [{res.metadata}]\")"
   ]
  },
  {
   "cell_type": "markdown",
   "metadata": {},
   "source": [
    "#### Dense Vector Search"
   ]
  },
  {
   "cell_type": "code",
   "execution_count": null,
   "metadata": {},
   "outputs": [],
   "source": [
    "from langchain_qdrant import QdrantVectorStore, RetrievalMode\n",
    "from qdrant_client import QdrantClient\n",
    "from qdrant_client.http.models import Distance, VectorParams\n",
    "\n",
    "qdrant = QdrantVectorStore(\n",
    "    client=client,\n",
    "    collection_name=\"demo_collection\",\n",
    "    embedding=embeddings,\n",
    "    retrieval_mode=RetrievalMode.DENSE,\n",
    ")\n",
    "\n",
    "qdrant.add_documents(documents=documents, ids=uuids)\n",
    "\n",
    "query = \"Don't you like sweets?\"\n",
    "found_docs = qdrant.similarity_search(query, k=3)\n",
    "found_docs"
   ]
  },
  {
   "cell_type": "markdown",
   "metadata": {},
   "source": [
    "#### Sparse Vector Search"
   ]
  },
  {
   "cell_type": "code",
   "execution_count": null,
   "metadata": {},
   "outputs": [],
   "source": [
    "from langchain_qdrant import FastEmbedSparse, QdrantVectorStore, RetrievalMode\n",
    "from qdrant_client import QdrantClient, models\n",
    "from qdrant_client.http.models import Distance, SparseVectorParams, VectorParams\n",
    "\n",
    "sparse_embeddings = FastEmbedSparse(model_name=\"Qdrant/bm25\")\n",
    "\n",
    "client.create_collection(\n",
    "    collection_name=\"sparse_collection\",\n",
    "    vectors_config={\n",
    "        \"dense\": VectorParams(\n",
    "            size=3072,\n",
    "            distance=Distance.COSINE,\n",
    "        ),\n",
    "    },\n",
    "    sparse_vectors_config={\n",
    "        \"sparse\": SparseVectorParams(\n",
    "            index=models.SparseIndexParams(\n",
    "                on_disk=False\n",
    "            )\n",
    "        )\n",
    "    },\n",
    ")\n",
    "\n",
    "qdrant = QdrantVectorStore(\n",
    "    client=client,\n",
    "    collection_name=\"sparse_collection\",\n",
    "    sparse_embedding=sparse_embeddings,\n",
    "    retrieval_mode=RetrievalMode.SPARSE,\n",
    "    sparse_vector_name=\"sparse\",\n",
    ")\n",
    "\n",
    "qdrant.add_documents(documents=documents, ids=uuids)\n",
    "\n",
    "query = \"Don't you like sweets?\"\n",
    "found_docs = qdrant.similarity_search(query, k=3)\n",
    "found_docs"
   ]
  },
  {
   "cell_type": "markdown",
   "metadata": {},
   "source": [
    "#### Hybrid Vector Search"
   ]
  },
  {
   "cell_type": "code",
   "execution_count": null,
   "metadata": {},
   "outputs": [],
   "source": [
    "client.create_collection(\n",
    "    collection_name=\"hybrid_collection\",\n",
    "    vectors_config={\n",
    "        \"dense\": VectorParams(size=3072, distance=Distance.COSINE),\n",
    "    },\n",
    "    sparse_vectors_config={\n",
    "        \"sparse\": SparseVectorParams(\n",
    "            index=models.SparseIndexParams(\n",
    "                on_disk=False\n",
    "            )\n",
    "        )\n",
    "    },\n",
    ")\n",
    "\n",
    "qdrant = QdrantVectorStore(\n",
    "    client=client,\n",
    "    collection_name=\"hybrid_collection\",\n",
    "    embedding=embeddings,\n",
    "    sparse_embedding=sparse_embeddings,\n",
    "    retrieval_mode=RetrievalMode.HYBRID,\n",
    "    vector_name=\"dense\",\n",
    "    sparse_vector_name=\"sparse\",\n",
    ")\n",
    "\n",
    "qdrant.add_documents(documents=documents, ids=uuids)\n",
    "\n",
    "query = \"Don't you like sweets?\"\n",
    "found_docs = qdrant.similarity_search(query, k=3)\n",
    "found_docs"
   ]
  },
  {
   "cell_type": "code",
   "execution_count": null,
   "metadata": {},
   "outputs": [],
   "source": [
    "qdrant = QdrantVectorStore(\n",
    "    client=client,\n",
    "    collection_name=\"hybrid_collection\",\n",
    "    embedding=embeddings,\n",
    "    sparse_embedding=sparse_embeddings,\n",
    "    retrieval_mode=RetrievalMode.HYBRID,\n",
    "    vector_name=\"dense\",\n",
    "    sparse_vector_name=\"sparse\",\n",
    ")\n",
    "\n",
    "query = \"Don't you like sweets?\"\n",
    "found_docs = qdrant.similarity_search(query, k=3)\n",
    "found_docs\n",
    "\n",
    "# llamaindex 예제 : \n",
    "#   https://docs.llamaindex.ai/en/stable/examples/vector_stores/QdrantIndexDemo/\n",
    "#\n",
    "# vector_store = QdrantVectorStore(\n",
    "#     client=client,\n",
    "#     aclient=aclient,\n",
    "#     collection_name=\"paul_graham_hybrid\",\n",
    "#     enable_hybrid=True,\n",
    "#     fastembed_sparse_model=\"Qdrant/bm25\",\n",
    "# )\n",
    "\n",
    "# index = VectorStoreIndex.from_documents(\n",
    "#     documents,\n",
    "#     storage_context=StorageContext.from_defaults(vector_store=vector_store),\n",
    "# )\n",
    "\n",
    "# # retrieve 2 sparse, 2 dense, and filter down to 3 total hybrid results\n",
    "# query_engine = index.as_query_engine(\n",
    "#     vector_store_query_mode=\"hybrid\",\n",
    "#     sparse_top_k=2,\n",
    "#     similarity_top_k=2,\n",
    "#     hybrid_top_k=3,\n",
    "# )"
   ]
  },
  {
   "cell_type": "code",
   "execution_count": null,
   "metadata": {},
   "outputs": [],
   "source": [
    "results = vector_store.similarity_search_with_score(\n",
    "    query=\"Don't you like sweets?\", k=3\n",
    ")\n",
    "for doc, score in results:\n",
    "    print(f\"* [SIM={score:3f}] {doc.page_content} [{doc.metadata}]\")"
   ]
  },
  {
   "cell_type": "markdown",
   "metadata": {},
   "source": [
    "#### Metadata filtering"
   ]
  },
  {
   "cell_type": "code",
   "execution_count": null,
   "metadata": {},
   "outputs": [],
   "source": [
    "from qdrant_client import models\n",
    "\n",
    "query = \"Don't you like sweets?\"\n",
    "\n",
    "results = vector_store.similarity_search(\n",
    "    query=query,\n",
    "    k=3,\n",
    "    filter=models.Filter(\n",
    "        # should=[\n",
    "        #     models.FieldCondition(\n",
    "        #         key=\"page_content\",\n",
    "        #         match=models.MatchText(\n",
    "        #             text=\"candy\"\n",
    "        #         )\n",
    "        #     )\n",
    "        # ],\n",
    "        must_not=[\n",
    "            models.FieldCondition(\n",
    "                key=\"page_content\",\n",
    "                match=models.MatchText(\n",
    "                    text=\"sweets\"\n",
    "                )\n",
    "            )\n",
    "        ]\n",
    "    )\n",
    ")\n",
    "for doc in results:\n",
    "    print(f\"* {doc.page_content} [{doc.metadata}]\")"
   ]
  },
  {
   "cell_type": "markdown",
   "metadata": {},
   "source": [
    "#### Query by turning into retriever"
   ]
  },
  {
   "cell_type": "code",
   "execution_count": null,
   "metadata": {},
   "outputs": [],
   "source": [
    "retriever = vector_store.as_retriever(search_type=\"mmr\", search_kwargs={\"k\": 1, \"fetch_k\": 3})\n",
    "retriever.invoke(\"Stealing from the bank is a crime\")"
   ]
  },
  {
   "cell_type": "code",
   "execution_count": null,
   "metadata": {},
   "outputs": [],
   "source": []
  }
 ],
 "metadata": {
  "kernelspec": {
   "display_name": "venv",
   "language": "python",
   "name": "venv"
  },
  "language_info": {
   "codemirror_mode": {
    "name": "ipython",
    "version": 3
   },
   "file_extension": ".py",
   "mimetype": "text/x-python",
   "name": "python",
   "nbconvert_exporter": "python",
   "pygments_lexer": "ipython3",
   "version": "3.11.5"
  }
 },
 "nbformat": 4,
 "nbformat_minor": 2
}
