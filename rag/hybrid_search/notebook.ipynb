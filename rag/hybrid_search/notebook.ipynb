{
 "cells": [
  {
   "cell_type": "code",
   "execution_count": null,
   "metadata": {},
   "outputs": [],
   "source": [
    "from src.bm25 import BM25\n",
    "\n",
    "bm25 = BM25(klue_mrc_dataset, tokenizer)\n",
    "\n",
    "query = \"이번 연도에는 언제 비가 많이 올까?\"\n",
    "_, bm25_search_ranking = bm25.get_top_k(query, k=100)\n",
    "\n",
    "for idx in bm25_search_ranking[:3]:\n",
    "    print(klue_mrc_dataset['context'][idx][:50])"
   ]
  },
  {
   "cell_type": "code",
   "execution_count": 1,
   "metadata": {},
   "outputs": [
    {
     "name": "stdout",
     "output_type": "stream",
     "text": [
      "[(1, 0.30952380952380953), (2, 0.30952380952380953), (3, 0.2361111111111111), (4, 0.2361111111111111), (5, 0.2)]\n"
     ]
    }
   ],
   "source": [
    "from src.rrf import reciprocal_rank_fusion\n",
    "\n",
    "rankings = [\n",
    "    [1, 2, 3, 4, 5],\n",
    "    [2, 1, 4, 3, 5],\n",
    "]\n",
    "\n",
    "rrf_result = reciprocal_rank_fusion(rankings)\n",
    "\n",
    "print(rrf_result)"
   ]
  },
  {
   "cell_type": "code",
   "execution_count": null,
   "metadata": {},
   "outputs": [],
   "source": []
  }
 ],
 "metadata": {
  "kernelspec": {
   "display_name": "venv",
   "language": "python",
   "name": "python3"
  },
  "language_info": {
   "codemirror_mode": {
    "name": "ipython",
    "version": 3
   },
   "file_extension": ".py",
   "mimetype": "text/x-python",
   "name": "python",
   "nbconvert_exporter": "python",
   "pygments_lexer": "ipython3",
   "version": "3.12.3"
  }
 },
 "nbformat": 4,
 "nbformat_minor": 2
}
