{
 "cells": [
  {
   "cell_type": "code",
   "execution_count": 19,
   "metadata": {},
   "outputs": [],
   "source": [
    "# https://platform.openai.com/docs/guides/text?api-mode=chat&lang=python"
   ]
  },
  {
   "cell_type": "markdown",
   "metadata": {},
   "source": [
    "##### 1. Text and prompting"
   ]
  },
  {
   "cell_type": "code",
   "execution_count": 10,
   "metadata": {},
   "outputs": [],
   "source": [
    "from openai import OpenAI\n",
    "from pydantic_settings import BaseSettings, SettingsConfigDict\n",
    "from transformers import AutoTokenizer\n",
    "\n",
    "class Settings(BaseSettings):\n",
    "    model_config = SettingsConfigDict(env_file=\".env\")\n",
    "    openai_api_key: str\n",
    "\n",
    "settings = Settings()"
   ]
  },
  {
   "cell_type": "code",
   "execution_count": 7,
   "metadata": {},
   "outputs": [],
   "source": [
    "client = OpenAI(api_key=settings.openai_api_key)"
   ]
  },
  {
   "cell_type": "code",
   "execution_count": 11,
   "metadata": {},
   "outputs": [
    {
     "data": {
      "application/vnd.jupyter.widget-view+json": {
       "model_id": "9e3109050bc941e6a91aecb7b8901726",
       "version_major": 2,
       "version_minor": 0
      },
      "text/plain": [
       "tokenizer_config.json:   0%|          | 0.00/7.23k [00:00<?, ?B/s]"
      ]
     },
     "metadata": {},
     "output_type": "display_data"
    },
    {
     "data": {
      "application/vnd.jupyter.widget-view+json": {
       "model_id": "ecbca9f16b284018a4360d9ba19a2643",
       "version_major": 2,
       "version_minor": 0
      },
      "text/plain": [
       "vocab.json:   0%|          | 0.00/2.78M [00:00<?, ?B/s]"
      ]
     },
     "metadata": {},
     "output_type": "display_data"
    },
    {
     "data": {
      "application/vnd.jupyter.widget-view+json": {
       "model_id": "ba6fefbb3e7549be9b6d4559602ad0f6",
       "version_major": 2,
       "version_minor": 0
      },
      "text/plain": [
       "merges.txt:   0%|          | 0.00/1.67M [00:00<?, ?B/s]"
      ]
     },
     "metadata": {},
     "output_type": "display_data"
    },
    {
     "data": {
      "application/vnd.jupyter.widget-view+json": {
       "model_id": "a3e297215fe44caca6f25e60da213afb",
       "version_major": 2,
       "version_minor": 0
      },
      "text/plain": [
       "tokenizer.json:   0%|          | 0.00/7.03M [00:00<?, ?B/s]"
      ]
     },
     "metadata": {},
     "output_type": "display_data"
    }
   ],
   "source": [
    "tokenizer = AutoTokenizer.from_pretrained(\"Qwen/Qwen2.5-0.5B\")"
   ]
  },
  {
   "cell_type": "code",
   "execution_count": 15,
   "metadata": {},
   "outputs": [
    {
     "name": "stdout",
     "output_type": "stream",
     "text": [
      "<|im_start|>system\n",
      "You are a helpful assistant.<|im_end|>\n",
      "<|im_start|>user\n",
      "Write a one-sentence bedtime story about a unicorn.<|im_end|>\n",
      "\n"
     ]
    }
   ],
   "source": [
    "messages=[\n",
    "    {\n",
    "        \"role\": \"user\",\n",
    "        \"content\": \"Write a one-sentence bedtime story about a unicorn.\"\n",
    "    }\n",
    "]\n",
    "\n",
    "formatted_text = tokenizer.apply_chat_template(\n",
    "    messages,\n",
    "    tokenize=False,\n",
    "    add_special_tokens=True\n",
    ")\n",
    "\n",
    "print((formatted_text))"
   ]
  },
  {
   "cell_type": "code",
   "execution_count": 16,
   "metadata": {},
   "outputs": [
    {
     "name": "stdout",
     "output_type": "stream",
     "text": [
      "Once upon a time, under a starlit sky, a gentle unicorn named Luna galloped through enchanted meadows, spreading dreams of kindness and magic with every shimmering step.\n"
     ]
    }
   ],
   "source": [
    "completion = client.chat.completions.create(\n",
    "    model=\"gpt-4.1-nano\",\n",
    "    messages=[\n",
    "        {\n",
    "            \"role\": \"user\",\n",
    "            \"content\": \"Write a one-sentence bedtime story about a unicorn.\"\n",
    "        }\n",
    "    ]\n",
    ")\n",
    "\n",
    "print(completion.choices[0].message.content)"
   ]
  },
  {
   "cell_type": "code",
   "execution_count": 18,
   "metadata": {},
   "outputs": [
    {
     "name": "stdout",
     "output_type": "stream",
     "text": [
      "{\n",
      "    \"id\": \"chatcmpl-BNehsuOpNR56z07Saqoftbwn9JUGT\",\n",
      "    \"choices\": [\n",
      "        {\n",
      "            \"finish_reason\": \"stop\",\n",
      "            \"index\": 0,\n",
      "            \"logprobs\": null,\n",
      "            \"message\": {\n",
      "                \"content\": \"Once upon a time, under a starlit sky, a gentle unicorn named Luna galloped through enchanted meadows, spreading dreams of kindness and magic with every shimmering step.\",\n",
      "                \"refusal\": null,\n",
      "                \"role\": \"assistant\",\n",
      "                \"annotations\": [],\n",
      "                \"audio\": null,\n",
      "                \"function_call\": null,\n",
      "                \"tool_calls\": null\n",
      "            }\n",
      "        }\n",
      "    ],\n",
      "    \"created\": 1744977720,\n",
      "    \"model\": \"gpt-4.1-nano-2025-04-14\",\n",
      "    \"object\": \"chat.completion\",\n",
      "    \"service_tier\": \"default\",\n",
      "    \"system_fingerprint\": \"fp_c1fb89028d\",\n",
      "    \"usage\": {\n",
      "        \"completion_tokens\": 36,\n",
      "        \"prompt_tokens\": 18,\n",
      "        \"total_tokens\": 54,\n",
      "        \"completion_tokens_details\": {\n",
      "            \"accepted_prediction_tokens\": 0,\n",
      "            \"audio_tokens\": 0,\n",
      "            \"reasoning_tokens\": 0,\n",
      "            \"rejected_prediction_tokens\": 0\n",
      "        },\n",
      "        \"prompt_tokens_details\": {\n",
      "            \"audio_tokens\": 0,\n",
      "            \"cached_tokens\": 0\n",
      "        }\n",
      "    }\n",
      "}\n"
     ]
    }
   ],
   "source": [
    "print(completion.model_dump_json(indent=4))"
   ]
  },
  {
   "cell_type": "markdown",
   "metadata": {},
   "source": [
    "##### Structured Outputs"
   ]
  },
  {
   "cell_type": "code",
   "execution_count": 27,
   "metadata": {},
   "outputs": [],
   "source": [
    "from pydantic import BaseModel\n",
    "from enum import Enum"
   ]
  },
  {
   "cell_type": "code",
   "execution_count": 37,
   "metadata": {},
   "outputs": [],
   "source": [
    "USER_MESSAGE = '''Extract the entities from the following sentence.:\n",
    "\"hyerin park is a student at the university of california, berkeley.\"\n",
    "The entity tags are:\n",
    "- PERSON\n",
    "- LOCATION\n",
    "- ORGANIZATION\n",
    "\n",
    "Return in the following JSON format.\n",
    "{\"entities\": [{\"entity\": str, \"tag\": str}, ...]}'''\n",
    "\n",
    "class EntityTag(str, Enum):\n",
    "    PERSON = \"PERSON\"\n",
    "    LOCATION = \"LOCATION\"\n",
    "    ORGANIZATION = \"ORGANIZATION\"\n",
    "\n",
    "class Entity(BaseModel):\n",
    "    entity: str\n",
    "    tag: EntityTag\n",
    "\n",
    "    class Config:\n",
    "        \"\"\"\n",
    "        additionalProperties: false must always be set in objects\n",
    "        (https://platform.openai.com/docs/guides/structured-outputs#additionalproperties-false-must-always-be-set-in-objects)\n",
    "        \"\"\"\n",
    "        extra = \"forbid\"\n",
    "\n",
    "class Entities(BaseModel):\n",
    "    entities: list[Entity]\n",
    "\n",
    "    class Config:\n",
    "        extra = \"forbid\""
   ]
  },
  {
   "cell_type": "code",
   "execution_count": 38,
   "metadata": {},
   "outputs": [
    {
     "data": {
      "text/plain": [
       "{'$defs': {'Entity': {'additionalProperties': False,\n",
       "   'properties': {'entity': {'title': 'Entity', 'type': 'string'},\n",
       "    'tag': {'$ref': '#/$defs/EntityTag'}},\n",
       "   'required': ['entity', 'tag'],\n",
       "   'title': 'Entity',\n",
       "   'type': 'object'},\n",
       "  'EntityTag': {'enum': ['PERSON', 'LOCATION', 'ORGANIZATION'],\n",
       "   'title': 'EntityTag',\n",
       "   'type': 'string'}},\n",
       " 'additionalProperties': False,\n",
       " 'properties': {'entities': {'items': {'$ref': '#/$defs/Entity'},\n",
       "   'title': 'Entities',\n",
       "   'type': 'array'}},\n",
       " 'required': ['entities'],\n",
       " 'title': 'Entities',\n",
       " 'type': 'object'}"
      ]
     },
     "execution_count": 38,
     "metadata": {},
     "output_type": "execute_result"
    }
   ],
   "source": [
    "Entities.model_json_schema()"
   ]
  },
  {
   "cell_type": "code",
   "execution_count": 35,
   "metadata": {},
   "outputs": [
    {
     "name": "stdout",
     "output_type": "stream",
     "text": [
      "entities=[Entity(entity='hyerin park', tag=<EntityTag.PERSON: 'PERSON'>), Entity(entity='university of california, berkeley', tag=<EntityTag.ORGANIZATION: 'ORGANIZATION'>)]\n"
     ]
    }
   ],
   "source": [
    "completion = client.beta.chat.completions.parse(\n",
    "    model=\"gpt-4.1-nano\",\n",
    "    messages=[\n",
    "        {\"role\": \"user\", \"content\": USER_MESSAGE},\n",
    "    ],\n",
    "    response_format=Entities,\n",
    ")\n",
    "\n",
    "print(completion.choices[0].message.parsed)"
   ]
  },
  {
   "cell_type": "code",
   "execution_count": 30,
   "metadata": {},
   "outputs": [
    {
     "name": "stdout",
     "output_type": "stream",
     "text": [
      "{\n",
      "    \"entities\": [\n",
      "        {\n",
      "            \"entity\": \"hyerin park\",\n",
      "            \"tag\": \"PERSON\"\n",
      "        },\n",
      "        {\n",
      "            \"entity\": \"university of california, berkeley\",\n",
      "            \"tag\": \"ORGANIZATION\"\n",
      "        }\n",
      "    ]\n",
      "}\n"
     ]
    }
   ],
   "source": [
    "result = completion.choices[0].message.parsed\n",
    "print(result.model_dump_json(indent=4))"
   ]
  }
 ],
 "metadata": {
  "kernelspec": {
   "display_name": "venv",
   "language": "python",
   "name": "venv"
  },
  "language_info": {
   "codemirror_mode": {
    "name": "ipython",
    "version": 3
   },
   "file_extension": ".py",
   "mimetype": "text/x-python",
   "name": "python",
   "nbconvert_exporter": "python",
   "pygments_lexer": "ipython3",
   "version": "3.11.5"
  }
 },
 "nbformat": 4,
 "nbformat_minor": 2
}
