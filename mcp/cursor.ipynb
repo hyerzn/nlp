{
 "cells": [
  {
   "cell_type": "code",
   "execution_count": 1,
   "metadata": {},
   "outputs": [],
   "source": [
    "# https://docs.cursor.com/context/model-context-protocol"
   ]
  },
  {
   "cell_type": "markdown",
   "metadata": {},
   "source": [
    "## MCP 설치 및 설정 가이드\n",
    "\n",
    "### 1. node 설치\n",
    "\n",
    "#### ✅ Linux\n",
    "```bash\n",
    "curl -o- https://raw.githubusercontent.com/nvm-sh/nvm/v0.40.2/install.sh | bash\n",
    "\\. \"$HOME/.nvm/nvm.sh\"\n",
    "nvm install 20\n",
    "```\n",
    "\n",
    "#### ✅ macOS\n",
    "```bash\n",
    "brew install node@22\n",
    "echo 'export PATH=\"/opt/homebrew/opt/node@22/bin:$PATH\"' >> ~/.zshrc\n",
    "export LDFLAGS=\"-L/opt/homebrew/opt/node@22/lib\"\n",
    "export CPPFLAGS=\"-I/opt/homebrew/opt/node@22/include\"\n",
    "```\n",
    "\n",
    "---\n",
    "\n",
    "### 2. 설치 확인\n",
    "\n",
    "```bash\n",
    "node -v        # v20.19.1\n",
    "nvm current    # v20.19.1\n",
    "```\n",
    "\n",
    "---\n",
    "\n",
    "### 3. `mcp-remote` 설치 (SSE 방식)\n",
    "\n",
    "```bash\n",
    "npm install -g mcp-remote\n",
    "```\n",
    "\n",
    "---\n",
    "\n",
    "### 4. MCP 서버 선택\n",
    "\n",
    "- smithery.ai 에서 사용할 MCP 서버 선택  \n",
    "   👉 ex) [https://smithery.ai/server/@smithery-ai/github](https://smithery.ai/server/@smithery-ai/github)\n",
    "\n",
    "---\n",
    "\n",
    "### 5. MCP 설치\n",
    "\n",
    "- Cursor에서 **auto > cursor > terminal** 에 출력된 명령어 실행\n",
    "\n",
    "---\n",
    "\n",
    "### 6. JSON 설정 등록\n",
    "\n",
    "- Cursor에서  \n",
    "   **Settings > + Add new global MCP server** 클릭  \n",
    "- 복사한 JSON 붙여넣기"
   ]
  }
 ],
 "metadata": {
  "kernelspec": {
   "display_name": "venv",
   "language": "python",
   "name": "venv"
  },
  "language_info": {
   "codemirror_mode": {
    "name": "ipython",
    "version": 3
   },
   "file_extension": ".py",
   "mimetype": "text/x-python",
   "name": "python",
   "nbconvert_exporter": "python",
   "pygments_lexer": "ipython3",
   "version": "3.11.5"
  }
 },
 "nbformat": 4,
 "nbformat_minor": 2
}
